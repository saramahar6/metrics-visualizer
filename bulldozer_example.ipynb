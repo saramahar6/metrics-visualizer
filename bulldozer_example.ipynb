{
 "cells": [
  {
   "cell_type": "markdown",
   "metadata": {},
   "source": [
    "## The Data\n",
    "\n",
    "From:\n",
    "https://www.kaggle.com/c/bluebook-for-bulldozers\n",
    "\n",
    "'The goal of the contest is to predict the sale price of a particular piece of heavy equiment at auction based on it's usage, equipment type, and configuaration.  The data is sourced from auction result postings and includes information on usage and equipment configurations.'\n",
    "\n",
    "We are interested in the TrainAndValid.csv found here.  For this notebook, we'll be putting this in a folder labeled `data`:\n",
    "\n",
    "https://www.kaggle.com/c/bluebook-for-bulldozers/data"
   ]
  },
  {
   "cell_type": "code",
   "execution_count": 1,
   "metadata": {},
   "outputs": [],
   "source": [
    "import pandas as pd\n",
    "import numpy as np\n",
    "\n",
    "from sklearn.ensemble import RandomForestRegressor, RandomForestClassifier\n",
    "from sklearn.model_selection import train_test_split\n",
    "from sklearn.preprocessing import LabelEncoder\n",
    "from datetime import datetime\n",
    "from sklearn.externals import joblib\n",
    "\n",
    "from metrics_auto_visualizer import plot_metrics"
   ]
  },
  {
   "cell_type": "markdown",
   "metadata": {},
   "source": [
    "## Regression: Let's Load the Data and Generate some Features\n",
    "\n",
    "We'll be doing basic feature engineering with the sale date, splitting it into month, day, and year.  We're not trying to build the greatest model here, just an illustrative example.  We'll drop difficult columns becaue they're difficult.  Next, we split the `fiProductClassDesc` into two features.  Lastly, we we label encode the categorical variables."
   ]
  },
  {
   "cell_type": "code",
   "execution_count": 3,
   "metadata": {
    "scrolled": true
   },
   "outputs": [
    {
     "name": "stderr",
     "output_type": "stream",
     "text": [
      "/Users/imarobit-mac/anaconda2/envs/fastai/lib/python3.6/site-packages/IPython/core/interactiveshell.py:2728: DtypeWarning:\n",
      "\n",
      "Columns (13,39,40,41) have mixed types. Specify dtype option on import or set low_memory=False.\n",
      "\n"
     ]
    },
    {
     "data": {
      "text/html": [
       "<div>\n",
       "<style scoped>\n",
       "    .dataframe tbody tr th:only-of-type {\n",
       "        vertical-align: middle;\n",
       "    }\n",
       "\n",
       "    .dataframe tbody tr th {\n",
       "        vertical-align: top;\n",
       "    }\n",
       "\n",
       "    .dataframe thead th {\n",
       "        text-align: right;\n",
       "    }\n",
       "</style>\n",
       "<table border=\"1\" class=\"dataframe\">\n",
       "  <thead>\n",
       "    <tr style=\"text-align: right;\">\n",
       "      <th></th>\n",
       "      <th>SalesID</th>\n",
       "      <th>SalePrice</th>\n",
       "      <th>MachineID</th>\n",
       "      <th>ModelID</th>\n",
       "      <th>datasource</th>\n",
       "      <th>auctioneerID</th>\n",
       "      <th>YearMade</th>\n",
       "      <th>MachineHoursCurrentMeter</th>\n",
       "      <th>UsageBand</th>\n",
       "      <th>saledate</th>\n",
       "      <th>...</th>\n",
       "      <th>Undercarriage_Pad_Width</th>\n",
       "      <th>Stick_Length</th>\n",
       "      <th>Thumb</th>\n",
       "      <th>Pattern_Changer</th>\n",
       "      <th>Grouser_Type</th>\n",
       "      <th>Backhoe_Mounting</th>\n",
       "      <th>Blade_Type</th>\n",
       "      <th>Travel_Controls</th>\n",
       "      <th>Differential_Type</th>\n",
       "      <th>Steering_Controls</th>\n",
       "    </tr>\n",
       "  </thead>\n",
       "  <tbody>\n",
       "    <tr>\n",
       "      <th>0</th>\n",
       "      <td>1139246</td>\n",
       "      <td>66000.0</td>\n",
       "      <td>999089</td>\n",
       "      <td>3157</td>\n",
       "      <td>121</td>\n",
       "      <td>3.0</td>\n",
       "      <td>2004</td>\n",
       "      <td>68.0</td>\n",
       "      <td>Low</td>\n",
       "      <td>11/16/2006 0:00</td>\n",
       "      <td>...</td>\n",
       "      <td>NaN</td>\n",
       "      <td>NaN</td>\n",
       "      <td>NaN</td>\n",
       "      <td>NaN</td>\n",
       "      <td>NaN</td>\n",
       "      <td>NaN</td>\n",
       "      <td>NaN</td>\n",
       "      <td>NaN</td>\n",
       "      <td>Standard</td>\n",
       "      <td>Conventional</td>\n",
       "    </tr>\n",
       "    <tr>\n",
       "      <th>1</th>\n",
       "      <td>1139248</td>\n",
       "      <td>57000.0</td>\n",
       "      <td>117657</td>\n",
       "      <td>77</td>\n",
       "      <td>121</td>\n",
       "      <td>3.0</td>\n",
       "      <td>1996</td>\n",
       "      <td>4640.0</td>\n",
       "      <td>Low</td>\n",
       "      <td>3/26/2004 0:00</td>\n",
       "      <td>...</td>\n",
       "      <td>NaN</td>\n",
       "      <td>NaN</td>\n",
       "      <td>NaN</td>\n",
       "      <td>NaN</td>\n",
       "      <td>NaN</td>\n",
       "      <td>NaN</td>\n",
       "      <td>NaN</td>\n",
       "      <td>NaN</td>\n",
       "      <td>Standard</td>\n",
       "      <td>Conventional</td>\n",
       "    </tr>\n",
       "    <tr>\n",
       "      <th>2</th>\n",
       "      <td>1139249</td>\n",
       "      <td>10000.0</td>\n",
       "      <td>434808</td>\n",
       "      <td>7009</td>\n",
       "      <td>121</td>\n",
       "      <td>3.0</td>\n",
       "      <td>2001</td>\n",
       "      <td>2838.0</td>\n",
       "      <td>High</td>\n",
       "      <td>2/26/2004 0:00</td>\n",
       "      <td>...</td>\n",
       "      <td>NaN</td>\n",
       "      <td>NaN</td>\n",
       "      <td>NaN</td>\n",
       "      <td>NaN</td>\n",
       "      <td>NaN</td>\n",
       "      <td>NaN</td>\n",
       "      <td>NaN</td>\n",
       "      <td>NaN</td>\n",
       "      <td>NaN</td>\n",
       "      <td>NaN</td>\n",
       "    </tr>\n",
       "    <tr>\n",
       "      <th>3</th>\n",
       "      <td>1139251</td>\n",
       "      <td>38500.0</td>\n",
       "      <td>1026470</td>\n",
       "      <td>332</td>\n",
       "      <td>121</td>\n",
       "      <td>3.0</td>\n",
       "      <td>2001</td>\n",
       "      <td>3486.0</td>\n",
       "      <td>High</td>\n",
       "      <td>5/19/2011 0:00</td>\n",
       "      <td>...</td>\n",
       "      <td>NaN</td>\n",
       "      <td>NaN</td>\n",
       "      <td>NaN</td>\n",
       "      <td>NaN</td>\n",
       "      <td>NaN</td>\n",
       "      <td>NaN</td>\n",
       "      <td>NaN</td>\n",
       "      <td>NaN</td>\n",
       "      <td>NaN</td>\n",
       "      <td>NaN</td>\n",
       "    </tr>\n",
       "    <tr>\n",
       "      <th>4</th>\n",
       "      <td>1139253</td>\n",
       "      <td>11000.0</td>\n",
       "      <td>1057373</td>\n",
       "      <td>17311</td>\n",
       "      <td>121</td>\n",
       "      <td>3.0</td>\n",
       "      <td>2007</td>\n",
       "      <td>722.0</td>\n",
       "      <td>Medium</td>\n",
       "      <td>7/23/2009 0:00</td>\n",
       "      <td>...</td>\n",
       "      <td>NaN</td>\n",
       "      <td>NaN</td>\n",
       "      <td>NaN</td>\n",
       "      <td>NaN</td>\n",
       "      <td>NaN</td>\n",
       "      <td>NaN</td>\n",
       "      <td>NaN</td>\n",
       "      <td>NaN</td>\n",
       "      <td>NaN</td>\n",
       "      <td>NaN</td>\n",
       "    </tr>\n",
       "  </tbody>\n",
       "</table>\n",
       "<p>5 rows × 53 columns</p>\n",
       "</div>"
      ],
      "text/plain": [
       "   SalesID  SalePrice  MachineID  ModelID  datasource  auctioneerID  YearMade  \\\n",
       "0  1139246    66000.0     999089     3157         121           3.0      2004   \n",
       "1  1139248    57000.0     117657       77         121           3.0      1996   \n",
       "2  1139249    10000.0     434808     7009         121           3.0      2001   \n",
       "3  1139251    38500.0    1026470      332         121           3.0      2001   \n",
       "4  1139253    11000.0    1057373    17311         121           3.0      2007   \n",
       "\n",
       "   MachineHoursCurrentMeter UsageBand         saledate        ...         \\\n",
       "0                      68.0       Low  11/16/2006 0:00        ...          \n",
       "1                    4640.0       Low   3/26/2004 0:00        ...          \n",
       "2                    2838.0      High   2/26/2004 0:00        ...          \n",
       "3                    3486.0      High   5/19/2011 0:00        ...          \n",
       "4                     722.0    Medium   7/23/2009 0:00        ...          \n",
       "\n",
       "  Undercarriage_Pad_Width Stick_Length Thumb Pattern_Changer Grouser_Type  \\\n",
       "0                     NaN          NaN   NaN             NaN          NaN   \n",
       "1                     NaN          NaN   NaN             NaN          NaN   \n",
       "2                     NaN          NaN   NaN             NaN          NaN   \n",
       "3                     NaN          NaN   NaN             NaN          NaN   \n",
       "4                     NaN          NaN   NaN             NaN          NaN   \n",
       "\n",
       "  Backhoe_Mounting Blade_Type Travel_Controls Differential_Type  \\\n",
       "0              NaN        NaN             NaN          Standard   \n",
       "1              NaN        NaN             NaN          Standard   \n",
       "2              NaN        NaN             NaN               NaN   \n",
       "3              NaN        NaN             NaN               NaN   \n",
       "4              NaN        NaN             NaN               NaN   \n",
       "\n",
       "  Steering_Controls  \n",
       "0      Conventional  \n",
       "1      Conventional  \n",
       "2               NaN  \n",
       "3               NaN  \n",
       "4               NaN  \n",
       "\n",
       "[5 rows x 53 columns]"
      ]
     },
     "execution_count": 3,
     "metadata": {},
     "output_type": "execute_result"
    }
   ],
   "source": [
    "# Data Loading\n",
    "data = pd.read_csv('./data/TrainAndValid.csv')\n",
    "data.head()"
   ]
  },
  {
   "cell_type": "code",
   "execution_count": 4,
   "metadata": {},
   "outputs": [],
   "source": [
    "# Date Features\n",
    "tmp_date = data.saledate.apply(lambda x : datetime.strptime(x[:-5], '%m/%d/%Y'))\n",
    "data['sale_mon'] = tmp_date.dt.month\n",
    "data['sale_dayofweek'] = tmp_date.dt.dayofweek\n",
    "data['sale_dayofyear'] = tmp_date.dt.dayofyear\n",
    "data['sale_year'] = tmp_date.dt.year\n",
    "data.drop(['saledate'],axis=1,inplace=True)\n",
    "\n",
    "# Taking Subset of Columns\n",
    "kept_columns = [\n",
    "                'YearMade', \n",
    "                'sale_mon', \n",
    "                'sale_dayofweek',\n",
    "                'sale_dayofyear',\n",
    "                'sale_year',\n",
    "                'fiModelDesc',\n",
    "                'fiBaseModel',\n",
    "                'fiProductClassDesc',\n",
    "                'state',\n",
    "                'SalePrice'\n",
    "               ]\n",
    "data = data[kept_columns]\n",
    "data['age'] = data.sale_year - data.YearMade"
   ]
  },
  {
   "cell_type": "code",
   "execution_count": 5,
   "metadata": {
    "scrolled": false
   },
   "outputs": [
    {
     "data": {
      "text/plain": [
       "0             Wheel Loader - 110.0 to 120.0 Horsepower\n",
       "1             Wheel Loader - 150.0 to 175.0 Horsepower\n",
       "2    Skid Steer Loader - 1351.0 to 1601.0 Lb Operat...\n",
       "3    Hydraulic Excavator, Track - 12.0 to 14.0 Metr...\n",
       "4    Skid Steer Loader - 1601.0 to 1751.0 Lb Operat...\n",
       "Name: fiProductClassDesc, dtype: object"
      ]
     },
     "execution_count": 5,
     "metadata": {},
     "output_type": "execute_result"
    }
   ],
   "source": [
    "data.fiProductClassDesc.head(5)"
   ]
  },
  {
   "cell_type": "code",
   "execution_count": 6,
   "metadata": {},
   "outputs": [],
   "source": [
    "# Encoding Class Description\n",
    "data.loc[:,'classDesc_1'] = data.fiProductClassDesc.apply(lambda x : x.replace(',','').strip().split('-')[0])\n",
    "data.loc[:,'classDesc_2'] = data.fiProductClassDesc.apply(lambda x : x.replace(',','').strip().split('-')[1])\n",
    "data.drop('fiProductClassDesc',axis=1,inplace=True)\n",
    "\n",
    "for col in ['fiModelDesc','fiBaseModel','state','classDesc_1','classDesc_2']:\n",
    "    lb = LabelEncoder()\n",
    "    data.loc[:,col] = lb.fit_transform(data.loc[:,col])\n",
    "\n",
    "# Floor and ceiling these miscoded values\n",
    "data.loc[data.YearMade < 1920, 'YearMade'] = np.median(data.YearMade)\n",
    "data.loc[data.YearMade > 2012, 'YearMade'] = 2012"
   ]
  },
  {
   "cell_type": "markdown",
   "metadata": {},
   "source": [
    "## Building a Random Forest Regressor and Saving the Outputs"
   ]
  },
  {
   "cell_type": "code",
   "execution_count": 7,
   "metadata": {
    "scrolled": true
   },
   "outputs": [
    {
     "data": {
      "text/plain": [
       "RandomForestRegressor(bootstrap=True, criterion='mse', max_depth=None,\n",
       "           max_features='auto', max_leaf_nodes=None,\n",
       "           min_impurity_decrease=0.0, min_impurity_split=None,\n",
       "           min_samples_leaf=1, min_samples_split=15,\n",
       "           min_weight_fraction_leaf=0.0, n_estimators=60, n_jobs=-1,\n",
       "           oob_score=False, random_state=None, verbose=0, warm_start=False)"
      ]
     },
     "execution_count": 7,
     "metadata": {},
     "output_type": "execute_result"
    }
   ],
   "source": [
    "# split into train and valid\n",
    "train, valid = train_test_split(data, test_size = .2)\n",
    "\n",
    "# reset the indicies for less headaches\n",
    "train.reset_index(drop=True, inplace=True)\n",
    "valid.reset_index(drop=True, inplace=True)\n",
    "\n",
    "# separate the response\n",
    "y_train = train.SalePrice\n",
    "y_valid = valid.SalePrice\n",
    "train.drop('SalePrice',axis=1,inplace=True)\n",
    "valid.drop('SalePrice',axis=1,inplace=True)\n",
    "\n",
    "# train the model\n",
    "rf = RandomForestRegressor(min_samples_split=15, \n",
    "                           n_estimators = 60, \n",
    "                           n_jobs=-1)\n",
    "rf.fit(train, y_train)"
   ]
  },
  {
   "cell_type": "markdown",
   "metadata": {},
   "source": [
    "## Plot those metrics!"
   ]
  },
  {
   "cell_type": "code",
   "execution_count": 11,
   "metadata": {},
   "outputs": [
    {
     "name": "stderr",
     "output_type": "stream",
     "text": [
      " * Running on http://127.0.0.1:9999/ (Press CTRL+C to quit)\n"
     ]
    },
    {
     "name": "stdout",
     "output_type": "stream",
     "text": [
      "Metrics Loaded!\n",
      "Plot Preprocessing Complete!\n",
      "Reticulating Splines!\n"
     ]
    },
    {
     "name": "stderr",
     "output_type": "stream",
     "text": [
      "127.0.0.1 - - [16/May/2018 16:39:54] \"GET / HTTP/1.1\" 200 -\n",
      "127.0.0.1 - - [16/May/2018 16:39:54] \"GET /_dash-component-suites/dash_core_components/rc-slider@6.1.2.css?v=0.22.1 HTTP/1.1\" 200 -\n",
      "127.0.0.1 - - [16/May/2018 16:39:54] \"GET /_dash-component-suites/dash_core_components/react-select@1.0.0-rc.3.min.css?v=0.22.1 HTTP/1.1\" 200 -\n",
      "127.0.0.1 - - [16/May/2018 16:39:54] \"GET /_dash-component-suites/dash_core_components/react-virtualized@9.9.0.css?v=0.22.1 HTTP/1.1\" 200 -\n",
      "127.0.0.1 - - [16/May/2018 16:39:54] \"GET /_dash-component-suites/dash_core_components/react-virtualized-select@3.1.0.css?v=0.22.1 HTTP/1.1\" 200 -\n",
      "127.0.0.1 - - [16/May/2018 16:39:54] \"GET /_dash-component-suites/dash_core_components/react-dates@12.3.0.css?v=0.22.1 HTTP/1.1\" 200 -\n",
      "127.0.0.1 - - [16/May/2018 16:39:54] \"GET /_dash-component-suites/dash_renderer/react@15.4.2.min.js?v=0.12.1 HTTP/1.1\" 200 -\n",
      "127.0.0.1 - - [16/May/2018 16:39:54] \"GET /_dash-component-suites/dash_renderer/react-dom@15.4.2.min.js?v=0.12.1 HTTP/1.1\" 200 -\n",
      "127.0.0.1 - - [16/May/2018 16:39:54] \"GET /_dash-component-suites/dash_html_components/bundle.js?v=0.10.0 HTTP/1.1\" 200 -\n",
      "127.0.0.1 - - [16/May/2018 16:39:54] \"GET /_dash-component-suites/dash_core_components/plotly-1.35.2.min.js?v=0.22.1 HTTP/1.1\" 200 -\n",
      "127.0.0.1 - - [16/May/2018 16:39:54] \"GET /_dash-component-suites/dash_core_components/bundle.js?v=0.22.1 HTTP/1.1\" 200 -\n",
      "127.0.0.1 - - [16/May/2018 16:39:54] \"GET /_dash-component-suites/dash_renderer/bundle.js?v=0.12.1 HTTP/1.1\" 200 -\n",
      "127.0.0.1 - - [16/May/2018 16:39:54] \"GET /_dash-layout HTTP/1.1\" 200 -\n",
      "127.0.0.1 - - [16/May/2018 16:39:54] \"GET /_dash-dependencies HTTP/1.1\" 200 -\n",
      "127.0.0.1 - - [16/May/2018 16:39:54] \"GET /favicon.ico HTTP/1.1\" 200 -\n"
     ]
    }
   ],
   "source": [
    "plot_metrics(rf, train, valid, y_train, y_valid, port=9999)"
   ]
  },
  {
   "cell_type": "markdown",
   "metadata": {},
   "source": [
    "## Now do Classification!\n",
    "\n",
    "For this data set, we just made up a variable to classify on called `is_old` if the tractor was built before 1995.  This obviously leads to a perfect classifier, so we randomized a few of the values to add some noise."
   ]
  },
  {
   "cell_type": "code",
   "execution_count": 9,
   "metadata": {},
   "outputs": [
    {
     "data": {
      "text/plain": [
       "RandomForestClassifier(bootstrap=True, class_weight=None, criterion='gini',\n",
       "            max_depth=None, max_features='auto', max_leaf_nodes=None,\n",
       "            min_impurity_decrease=0.0, min_impurity_split=None,\n",
       "            min_samples_leaf=1, min_samples_split=15,\n",
       "            min_weight_fraction_leaf=0.0, n_estimators=60, n_jobs=-1,\n",
       "            oob_score=False, random_state=None, verbose=0,\n",
       "            warm_start=False)"
      ]
     },
     "execution_count": 9,
     "metadata": {},
     "output_type": "execute_result"
    }
   ],
   "source": [
    "# new feature\n",
    "data['is_old'] = np.int8(data.YearMade < 1995)\n",
    "r_index = np.random.choice(data.is_old.index, size=90_000)\n",
    "data.loc[r_index,'is_old'] = data.loc[r_index].is_old.apply(lambda x : np.random.randint(0,1))\n",
    "\n",
    "# train test split\n",
    "train_c, valid_c = train_test_split(data, test_size = .2)\n",
    "y_c_train = train_c.is_old\n",
    "y_c_valid = valid_c.is_old\n",
    "train_c.drop('is_old',axis=1,inplace=True)\n",
    "valid_c.drop('is_old',axis=1,inplace=True)\n",
    "\n",
    "# fit the model\n",
    "rf_c = RandomForestClassifier(min_samples_split=15, \n",
    "                            n_estimators = 60, \n",
    "                            n_jobs=-1)\n",
    "rf_c.fit(train_c, y_c_train)"
   ]
  },
  {
   "cell_type": "markdown",
   "metadata": {},
   "source": [
    "## Plot those Metrics!"
   ]
  },
  {
   "cell_type": "code",
   "execution_count": 10,
   "metadata": {
    "collapsed": true
   },
   "outputs": [
    {
     "name": "stderr",
     "output_type": "stream",
     "text": [
      "/Users/imarobit-mac/anaconda2/envs/fastai/lib/python3.6/site-packages/sklearn/metrics/classification.py:1135: UndefinedMetricWarning:\n",
      "\n",
      "F-score is ill-defined and being set to 0.0 due to no predicted samples.\n",
      "\n",
      "/Users/imarobit-mac/anaconda2/envs/fastai/lib/python3.6/site-packages/numpy/core/fromnumeric.py:52: FutureWarning:\n",
      "\n",
      "'argmax' is deprecated. Use 'idxmax' instead. The behavior of 'argmax' will be corrected to return the positional maximum in the future. Use 'series.values.argmax' to get the position of the maximum now.\n",
      "\n",
      " * Running on http://127.0.0.1:9999/ (Press CTRL+C to quit)\n"
     ]
    },
    {
     "name": "stdout",
     "output_type": "stream",
     "text": [
      "Hard Predictions Loaded!\n"
     ]
    },
    {
     "name": "stderr",
     "output_type": "stream",
     "text": [
      "127.0.0.1 - - [16/May/2018 16:34:51] \"GET / HTTP/1.1\" 200 -\n",
      "127.0.0.1 - - [16/May/2018 16:34:51] \"GET /_dash-component-suites/dash_core_components/rc-slider@6.1.2.css?v=0.22.1 HTTP/1.1\" 200 -\n",
      "127.0.0.1 - - [16/May/2018 16:34:51] \"GET /_dash-component-suites/dash_core_components/react-select@1.0.0-rc.3.min.css?v=0.22.1 HTTP/1.1\" 200 -\n",
      "127.0.0.1 - - [16/May/2018 16:34:51] \"GET /_dash-component-suites/dash_core_components/react-virtualized@9.9.0.css?v=0.22.1 HTTP/1.1\" 200 -\n",
      "127.0.0.1 - - [16/May/2018 16:34:51] \"GET /_dash-component-suites/dash_core_components/react-virtualized-select@3.1.0.css?v=0.22.1 HTTP/1.1\" 200 -\n",
      "127.0.0.1 - - [16/May/2018 16:34:51] \"GET /_dash-component-suites/dash_core_components/react-dates@12.3.0.css?v=0.22.1 HTTP/1.1\" 200 -\n",
      "127.0.0.1 - - [16/May/2018 16:34:51] \"GET /_dash-component-suites/dash_renderer/react@15.4.2.min.js?v=0.12.1 HTTP/1.1\" 200 -\n",
      "127.0.0.1 - - [16/May/2018 16:34:51] \"GET /_dash-component-suites/dash_renderer/react-dom@15.4.2.min.js?v=0.12.1 HTTP/1.1\" 200 -\n",
      "127.0.0.1 - - [16/May/2018 16:34:51] \"GET /_dash-component-suites/dash_html_components/bundle.js?v=0.10.0 HTTP/1.1\" 200 -\n",
      "127.0.0.1 - - [16/May/2018 16:34:51] \"GET /_dash-component-suites/dash_core_components/plotly-1.35.2.min.js?v=0.22.1 HTTP/1.1\" 200 -\n",
      "127.0.0.1 - - [16/May/2018 16:34:51] \"GET /_dash-component-suites/dash_core_components/bundle.js?v=0.22.1 HTTP/1.1\" 200 -\n",
      "127.0.0.1 - - [16/May/2018 16:34:51] \"GET /_dash-component-suites/dash_renderer/bundle.js?v=0.12.1 HTTP/1.1\" 200 -\n",
      "127.0.0.1 - - [16/May/2018 16:34:52] \"GET /_dash-layout HTTP/1.1\" 200 -\n",
      "127.0.0.1 - - [16/May/2018 16:34:52] \"GET /_dash-dependencies HTTP/1.1\" 200 -\n",
      "127.0.0.1 - - [16/May/2018 16:34:52] \"POST /_dash-update-component HTTP/1.1\" 200 -\n",
      "127.0.0.1 - - [16/May/2018 16:34:52] \"POST /_dash-update-component HTTP/1.1\" 200 -\n",
      "127.0.0.1 - - [16/May/2018 16:34:52] \"POST /_dash-update-component HTTP/1.1\" 200 -\n",
      "127.0.0.1 - - [16/May/2018 16:34:52] \"POST /_dash-update-component HTTP/1.1\" 200 -\n",
      "127.0.0.1 - - [16/May/2018 16:34:53] \"GET /favicon.ico HTTP/1.1\" 200 -\n",
      "127.0.0.1 - - [16/May/2018 16:35:49] \"POST /_dash-update-component HTTP/1.1\" 200 -\n",
      "127.0.0.1 - - [16/May/2018 16:35:49] \"POST /_dash-update-component HTTP/1.1\" 200 -\n",
      "127.0.0.1 - - [16/May/2018 16:35:49] \"POST /_dash-update-component HTTP/1.1\" 200 -\n",
      "127.0.0.1 - - [16/May/2018 16:35:49] \"POST /_dash-update-component HTTP/1.1\" 200 -\n",
      "127.0.0.1 - - [16/May/2018 16:35:54] \"POST /_dash-update-component HTTP/1.1\" 200 -\n",
      "127.0.0.1 - - [16/May/2018 16:35:54] \"POST /_dash-update-component HTTP/1.1\" 200 -\n",
      "127.0.0.1 - - [16/May/2018 16:35:54] \"POST /_dash-update-component HTTP/1.1\" 200 -\n",
      "127.0.0.1 - - [16/May/2018 16:35:54] \"POST /_dash-update-component HTTP/1.1\" 200 -\n"
     ]
    }
   ],
   "source": [
    "plot_metrics(rf_c, train_c, valid_c, y_c_train, y_c_valid, port=9999)"
   ]
  },
  {
   "cell_type": "code",
   "execution_count": null,
   "metadata": {},
   "outputs": [],
   "source": []
  }
 ],
 "metadata": {
  "kernelspec": {
   "display_name": "Python 3",
   "language": "python",
   "name": "python3"
  },
  "language_info": {
   "codemirror_mode": {
    "name": "ipython",
    "version": 3
   },
   "file_extension": ".py",
   "mimetype": "text/x-python",
   "name": "python",
   "nbconvert_exporter": "python",
   "pygments_lexer": "ipython3",
   "version": "3.6.4"
  }
 },
 "nbformat": 4,
 "nbformat_minor": 2
}
