{
 "cells": [
  {
   "cell_type": "code",
   "execution_count": 54,
   "metadata": {},
   "outputs": [],
   "source": [
    "import pandas as pd\n",
    "from sklearn.externals import joblib\n",
    "from sklearn.metrics import mean_absolute_error, mean_squared_error, mean_squared_log_error, r2_score\n",
    "from sklearn.utils import check_array\n",
    "import numpy as np\n",
    "from numba import jit, vectorize, float64, int64\n",
    "from sklearn.ensemble import RandomForestRegressor\n",
    "from sklearn.model_selection import train_test_split\n",
    "from sklearn.preprocessing import LabelEncoder\n",
    "from datetime import datetime\n",
    "from sklearn.externals import joblib\n",
    "from math import sqrt\n",
    "from IPython import display\n",
    "import dash\n",
    "import dash_core_components as dcc\n",
    "import dash_html_components as html\n",
    "import warnings\n",
    "import plotly.graph_objs as go\n",
    "from plotly import tools\n",
    "from plotly.figure_factory import create_2d_density\n",
    "from plotly.graph_objs import graph_objs"
   ]
  },
  {
   "cell_type": "code",
   "execution_count": 55,
   "metadata": {},
   "outputs": [],
   "source": [
    "warnings.filterwarnings('ignore')"
   ]
  },
  {
   "cell_type": "code",
   "execution_count": 56,
   "metadata": {},
   "outputs": [],
   "source": [
    "rf = joblib.load('./data/rfc_trained.pkl')\n",
    "train = pd.read_feather('./data/xc_train.feather')\n",
    "valid = pd.read_feather('./data/xc_valid.feather')\n",
    "y_train = pd.read_csv('./data/yc_train.csv')\n",
    "y_valid = pd.read_csv('./data/yc_valid.csv')"
   ]
  },
  {
   "cell_type": "markdown",
   "metadata": {},
   "source": [
    "# show the Dash plot"
   ]
  },
  {
   "cell_type": "code",
   "execution_count": 57,
   "metadata": {},
   "outputs": [],
   "source": [
    "def show_app(app,  # type: dash.Dash\n",
    "             port=9999,\n",
    "             width=700,\n",
    "             height=350,\n",
    "             offline=True,\n",
    "             style=True,\n",
    "             **dash_flask_kwargs):\n",
    "    \"\"\"\n",
    "    Run the application inside a Jupyter notebook and show an iframe with it\n",
    "    :param app:\n",
    "    :param port:\n",
    "    :param width:\n",
    "    :param height:\n",
    "    :param offline:\n",
    "    :return:\n",
    "    \"\"\"\n",
    "    url = 'http://localhost:%d' % port\n",
    "    iframe = '<iframe src=\"{url}\" width={width} height={height}></iframe>'.format(url=url,\n",
    "                                                                                  width=width,\n",
    "                                                                                  height=height)\n",
    "    display.display_html(iframe, raw=True)\n",
    "    if offline:\n",
    "        app.css.config.serve_locally = True\n",
    "        app.scripts.config.serve_locally = True\n",
    "    if style:\n",
    "        external_css = [\"https://fonts.googleapis.com/css?family=Raleway:400,300,600\",\n",
    "                        \"https://maxcdn.bootstrapcdn.com/font-awesome/4.7.0/css/font-awesome.min.css\",\n",
    "                        \"http://getbootstrap.com/dist/css/bootstrap.min.css\", ]\n",
    "\n",
    "        for css in external_css:\n",
    "            app.css.append_css({\"external_url\": css})\n",
    "\n",
    "        external_js = [\"https://code.jquery.com/jquery-3.2.1.min.js\",\n",
    "                       \"https://cdn.rawgit.com/plotly/dash-app-stylesheets/a3401de132a6d0b652ba11548736b1d1e80aa10d/dash-goldman-sachs-report-js.js\",\n",
    "                       \"http://getbootstrap.com/dist/js/bootstrap.min.js\"]\n",
    "\n",
    "        for js in external_js:\n",
    "            app.scripts.append_script({\"external_url\": js})\n",
    "\n",
    "    return app.run_server(debug=False,  # needs to be false in Jupyter\n",
    "                          port=port)\n",
    "                          #**dash_flask_kwargs)"
   ]
  },
  {
   "cell_type": "code",
   "execution_count": 58,
   "metadata": {},
   "outputs": [],
   "source": [
    "app = dash.Dash()"
   ]
  },
  {
   "cell_type": "code",
   "execution_count": 59,
   "metadata": {},
   "outputs": [],
   "source": [
    "rf = joblib.load('./data/rfc_trained.pkl')\n",
    "train = pd.read_feather('./data/xc_train.feather')\n",
    "valid = pd.read_feather('./data/xc_valid.feather')\n",
    "y_train = pd.read_csv('./data/yc_train.csv',header=None).iloc[:,0]\n",
    "y_valid = pd.read_csv('./data/yc_valid.csv',header=None).iloc[:,0]\n",
    "\n",
    "def pred_to_hard(val, arr):\n",
    "    arr[arr > val] = 1\n",
    "    arr[arr <= val] = 0\n",
    "    return arr\n",
    "\n",
    "\n",
    "def hard_results(preds, target, value):\n",
    "    hard = pred_to_hard(value, preds.copy())\n",
    "    tp_ = np.sum(np.logical_and((hard == 1), (y_valid.values == 1)))\n",
    "    tn_ = np.sum(np.logical_and((hard == 0), (y_valid.values == 0)))\n",
    "    fp_ = np.sum(np.logical_and((hard == 1), (y_valid.values == 0)))\n",
    "    fn_ = np.sum(np.logical_and((hard == 0), (y_valid.values == 1)))\n",
    "    return (tp_,tn_,fp_,fn_)\n",
    "\n",
    "\n",
    "def hard_pred_df(data, target, model):\n",
    "    df = pd.DataFrame(columns=['Break','TP','TN', 'FP', 'FN'])\n",
    "    preds = model.predict_proba(data)[:,1]\n",
    "    for i,v in enumerate(np.arange(0,1.001,.001)):\n",
    "        hard = pred_to_hard(v, preds.copy())\n",
    "        tp_ = np.sum(np.logical_and((hard == 1), (y_valid.values == 1)))\n",
    "        tn_ = np.sum(np.logical_and((hard == 0), (y_valid.values == 0)))\n",
    "        fp_ = np.sum(np.logical_and((hard == 1), (y_valid.values == 0)))\n",
    "        fn_ = np.sum(np.logical_and((hard == 0), (y_valid.values == 1)))\n",
    "        df.loc[i] = {\n",
    "                     'Break':v,\n",
    "                     'TP':tp_,\n",
    "                     'TN':tn_,\n",
    "                     'FP':fp_,\n",
    "                     'FN':fn_\n",
    "                    }\n",
    "    return df"
   ]
  },
  {
   "cell_type": "code",
   "execution_count": 60,
   "metadata": {},
   "outputs": [
    {
     "data": {
      "text/html": [
       "<div>\n",
       "<style scoped>\n",
       "    .dataframe tbody tr th:only-of-type {\n",
       "        vertical-align: middle;\n",
       "    }\n",
       "\n",
       "    .dataframe tbody tr th {\n",
       "        vertical-align: top;\n",
       "    }\n",
       "\n",
       "    .dataframe thead th {\n",
       "        text-align: right;\n",
       "    }\n",
       "</style>\n",
       "<table border=\"1\" class=\"dataframe\">\n",
       "  <thead>\n",
       "    <tr style=\"text-align: right;\">\n",
       "      <th></th>\n",
       "      <th>Break</th>\n",
       "      <th>TP</th>\n",
       "      <th>TN</th>\n",
       "      <th>FP</th>\n",
       "      <th>FN</th>\n",
       "    </tr>\n",
       "  </thead>\n",
       "  <tbody>\n",
       "    <tr>\n",
       "      <th>0</th>\n",
       "      <td>0.000</td>\n",
       "      <td>32195.0</td>\n",
       "      <td>40376.0</td>\n",
       "      <td>9969.0</td>\n",
       "      <td>0.0</td>\n",
       "    </tr>\n",
       "    <tr>\n",
       "      <th>1</th>\n",
       "      <td>0.001</td>\n",
       "      <td>32195.0</td>\n",
       "      <td>40376.0</td>\n",
       "      <td>9969.0</td>\n",
       "      <td>0.0</td>\n",
       "    </tr>\n",
       "    <tr>\n",
       "      <th>2</th>\n",
       "      <td>0.002</td>\n",
       "      <td>32195.0</td>\n",
       "      <td>40471.0</td>\n",
       "      <td>9874.0</td>\n",
       "      <td>0.0</td>\n",
       "    </tr>\n",
       "    <tr>\n",
       "      <th>3</th>\n",
       "      <td>0.003</td>\n",
       "      <td>32195.0</td>\n",
       "      <td>40547.0</td>\n",
       "      <td>9798.0</td>\n",
       "      <td>0.0</td>\n",
       "    </tr>\n",
       "    <tr>\n",
       "      <th>4</th>\n",
       "      <td>0.004</td>\n",
       "      <td>32195.0</td>\n",
       "      <td>40614.0</td>\n",
       "      <td>9731.0</td>\n",
       "      <td>0.0</td>\n",
       "    </tr>\n",
       "  </tbody>\n",
       "</table>\n",
       "</div>"
      ],
      "text/plain": [
       "   Break       TP       TN      FP   FN\n",
       "0  0.000  32195.0  40376.0  9969.0  0.0\n",
       "1  0.001  32195.0  40376.0  9969.0  0.0\n",
       "2  0.002  32195.0  40471.0  9874.0  0.0\n",
       "3  0.003  32195.0  40547.0  9798.0  0.0\n",
       "4  0.004  32195.0  40614.0  9731.0  0.0"
      ]
     },
     "execution_count": 60,
     "metadata": {},
     "output_type": "execute_result"
    }
   ],
   "source": [
    "hard_pred = hard_pred_df(valid,y_valid,rf)\n",
    "\n",
    "hard_pred.head()"
   ]
  },
  {
   "cell_type": "code",
   "execution_count": 82,
   "metadata": {},
   "outputs": [],
   "source": [
    "import dash\n",
    "import dash_html_components as html\n",
    "import dash_core_components as dcc\n",
    "\n",
    "preds = rf.predict_proba(valid)[:,1]\n",
    "\n",
    "app = dash.Dash()\n",
    "app.layout = html.Div([\n",
    "    dcc.Slider(\n",
    "        id='my-slider',\n",
    "        min=0,\n",
    "        max=1,\n",
    "        step=0.01,\n",
    "        value=.5\n",
    "    ),\n",
    "    html.Div(id='slider-output-container'),\n",
    "    dcc.Graph(\n",
    "    id='my-graph',\n",
    "    )\n",
    "])\n",
    "\n",
    "\n",
    "@app.callback(\n",
    "    dash.dependencies.Output('my-graph', 'figure'),\n",
    "    [dash.dependencies.Input('my-slider', 'value')])\n",
    "def update_output(value):\n",
    "    results = hard_results(preds,y_valid,value)\n",
    "    #return 'TP: %s, TN: %s, FP: %s, FN: %s' % (results[0],results[1],results[2],results[3])\n",
    "    return {\n",
    "            'data':[go.Scatter(x = [0,1],\n",
    "                                 y =[results[0]+results[1], results[2]+results[3]])\n",
    "                   ],\n",
    "            'layout': {height :225, margin:{'l':} \n",
    "                      }\n",
    "           }"
   ]
  },
  {
   "cell_type": "code",
   "execution_count": null,
   "metadata": {
    "scrolled": false
   },
   "outputs": [
    {
     "data": {
      "text/html": [
       "<iframe src=\"http://localhost:9999\" width=1000 height=1000></iframe>"
      ]
     },
     "metadata": {},
     "output_type": "display_data"
    },
    {
     "name": "stderr",
     "output_type": "stream",
     "text": [
      " * Running on http://127.0.0.1:9999/ (Press CTRL+C to quit)\n",
      "127.0.0.1 - - [30/Apr/2018 19:29:37] \"GET / HTTP/1.1\" 200 -\n",
      "127.0.0.1 - - [30/Apr/2018 19:29:37] \"GET /_dash-component-suites/dash_core_components/react-select@1.0.0-rc.3.min.css?v=0.22.1 HTTP/1.1\" 200 -\n",
      "127.0.0.1 - - [30/Apr/2018 19:29:37] \"GET /_dash-component-suites/dash_core_components/react-virtualized@9.9.0.css?v=0.22.1 HTTP/1.1\" 200 -\n",
      "127.0.0.1 - - [30/Apr/2018 19:29:37] \"GET /_dash-component-suites/dash_core_components/rc-slider@6.1.2.css?v=0.22.1 HTTP/1.1\" 200 -\n",
      "127.0.0.1 - - [30/Apr/2018 19:29:37] \"GET /_dash-component-suites/dash_core_components/react-virtualized-select@3.1.0.css?v=0.22.1 HTTP/1.1\" 200 -\n",
      "127.0.0.1 - - [30/Apr/2018 19:29:37] \"GET /_dash-component-suites/dash_core_components/react-dates@12.3.0.css?v=0.22.1 HTTP/1.1\" 200 -\n",
      "127.0.0.1 - - [30/Apr/2018 19:29:37] \"GET /_dash-component-suites/dash_renderer/react@15.4.2.min.js?v=0.12.1 HTTP/1.1\" 200 -\n",
      "127.0.0.1 - - [30/Apr/2018 19:29:37] \"GET /_dash-component-suites/dash_renderer/react-dom@15.4.2.min.js?v=0.12.1 HTTP/1.1\" 200 -\n",
      "127.0.0.1 - - [30/Apr/2018 19:29:37] \"GET /_dash-component-suites/dash_html_components/bundle.js?v=0.10.0 HTTP/1.1\" 200 -\n",
      "127.0.0.1 - - [30/Apr/2018 19:29:37] \"GET /_dash-component-suites/dash_core_components/plotly-1.35.2.min.js?v=0.22.1 HTTP/1.1\" 200 -\n",
      "127.0.0.1 - - [30/Apr/2018 19:29:37] \"GET /_dash-component-suites/dash_core_components/bundle.js?v=0.22.1 HTTP/1.1\" 200 -\n",
      "127.0.0.1 - - [30/Apr/2018 19:29:37] \"GET /_dash-component-suites/dash_renderer/bundle.js?v=0.12.1 HTTP/1.1\" 200 -\n",
      "127.0.0.1 - - [30/Apr/2018 19:29:38] \"GET /_dash-layout HTTP/1.1\" 200 -\n",
      "127.0.0.1 - - [30/Apr/2018 19:29:38] \"GET /_dash-dependencies HTTP/1.1\" 200 -\n",
      "[2018-04-30 19:29:38,339] ERROR in app: Exception on /_dash-update-component [POST]\n",
      "Traceback (most recent call last):\n",
      "  File \"/Users/imarobit-mac/anaconda2/envs/fastai/lib/python3.6/site-packages/flask/app.py\", line 1982, in wsgi_app\n",
      "    response = self.full_dispatch_request()\n",
      "  File \"/Users/imarobit-mac/anaconda2/envs/fastai/lib/python3.6/site-packages/flask/app.py\", line 1614, in full_dispatch_request\n",
      "    rv = self.handle_user_exception(e)\n",
      "  File \"/Users/imarobit-mac/anaconda2/envs/fastai/lib/python3.6/site-packages/flask/app.py\", line 1517, in handle_user_exception\n",
      "    reraise(exc_type, exc_value, tb)\n",
      "  File \"/Users/imarobit-mac/anaconda2/envs/fastai/lib/python3.6/site-packages/flask/_compat.py\", line 33, in reraise\n",
      "    raise value\n",
      "  File \"/Users/imarobit-mac/anaconda2/envs/fastai/lib/python3.6/site-packages/flask/app.py\", line 1612, in full_dispatch_request\n",
      "    rv = self.dispatch_request()\n",
      "  File \"/Users/imarobit-mac/anaconda2/envs/fastai/lib/python3.6/site-packages/flask/app.py\", line 1598, in dispatch_request\n",
      "    return self.view_functions[rule.endpoint](**req.view_args)\n",
      "  File \"/Users/imarobit-mac/anaconda2/envs/fastai/lib/python3.6/site-packages/dash/dash.py\", line 556, in dispatch\n",
      "    return self.callback_map[target_id]['callback'](*args)\n",
      "  File \"/Users/imarobit-mac/anaconda2/envs/fastai/lib/python3.6/site-packages/dash/dash.py\", line 513, in add_context\n",
      "    output_value = func(*args, **kwargs)\n",
      "  File \"<ipython-input-82-a0f305dfb650>\", line 34, in update_output\n",
      "    'layout': {height :225\n",
      "NameError: name 'height' is not defined\n",
      "127.0.0.1 - - [30/Apr/2018 19:29:38] \"POST /_dash-update-component HTTP/1.1\" 500 -\n"
     ]
    },
    {
     "name": "stdout",
     "output_type": "stream",
     "text": [
      "(32095, 42577, 7768, 100)\n"
     ]
    },
    {
     "name": "stderr",
     "output_type": "stream",
     "text": [
      "[2018-04-30 19:29:46,399] ERROR in app: Exception on /_dash-update-component [POST]\n",
      "Traceback (most recent call last):\n",
      "  File \"/Users/imarobit-mac/anaconda2/envs/fastai/lib/python3.6/site-packages/flask/app.py\", line 1982, in wsgi_app\n",
      "    response = self.full_dispatch_request()\n",
      "  File \"/Users/imarobit-mac/anaconda2/envs/fastai/lib/python3.6/site-packages/flask/app.py\", line 1614, in full_dispatch_request\n",
      "    rv = self.handle_user_exception(e)\n",
      "  File \"/Users/imarobit-mac/anaconda2/envs/fastai/lib/python3.6/site-packages/flask/app.py\", line 1517, in handle_user_exception\n",
      "    reraise(exc_type, exc_value, tb)\n",
      "  File \"/Users/imarobit-mac/anaconda2/envs/fastai/lib/python3.6/site-packages/flask/_compat.py\", line 33, in reraise\n",
      "    raise value\n",
      "  File \"/Users/imarobit-mac/anaconda2/envs/fastai/lib/python3.6/site-packages/flask/app.py\", line 1612, in full_dispatch_request\n",
      "    rv = self.dispatch_request()\n",
      "  File \"/Users/imarobit-mac/anaconda2/envs/fastai/lib/python3.6/site-packages/flask/app.py\", line 1598, in dispatch_request\n",
      "    return self.view_functions[rule.endpoint](**req.view_args)\n",
      "  File \"/Users/imarobit-mac/anaconda2/envs/fastai/lib/python3.6/site-packages/dash/dash.py\", line 556, in dispatch\n",
      "    return self.callback_map[target_id]['callback'](*args)\n",
      "  File \"/Users/imarobit-mac/anaconda2/envs/fastai/lib/python3.6/site-packages/dash/dash.py\", line 513, in add_context\n",
      "    output_value = func(*args, **kwargs)\n",
      "  File \"<ipython-input-82-a0f305dfb650>\", line 34, in update_output\n",
      "    'layout': {height :225\n",
      "NameError: name 'height' is not defined\n",
      "127.0.0.1 - - [30/Apr/2018 19:29:46] \"POST /_dash-update-component HTTP/1.1\" 500 -\n"
     ]
    },
    {
     "name": "stdout",
     "output_type": "stream",
     "text": [
      "(32195, 42555, 7790, 0)\n"
     ]
    },
    {
     "name": "stderr",
     "output_type": "stream",
     "text": [
      "[2018-04-30 19:29:55,167] ERROR in app: Exception on /_dash-update-component [POST]\n",
      "Traceback (most recent call last):\n",
      "  File \"/Users/imarobit-mac/anaconda2/envs/fastai/lib/python3.6/site-packages/flask/app.py\", line 1982, in wsgi_app\n",
      "    response = self.full_dispatch_request()\n",
      "  File \"/Users/imarobit-mac/anaconda2/envs/fastai/lib/python3.6/site-packages/flask/app.py\", line 1614, in full_dispatch_request\n",
      "    rv = self.handle_user_exception(e)\n",
      "  File \"/Users/imarobit-mac/anaconda2/envs/fastai/lib/python3.6/site-packages/flask/app.py\", line 1517, in handle_user_exception\n",
      "    reraise(exc_type, exc_value, tb)\n",
      "  File \"/Users/imarobit-mac/anaconda2/envs/fastai/lib/python3.6/site-packages/flask/_compat.py\", line 33, in reraise\n",
      "    raise value\n",
      "  File \"/Users/imarobit-mac/anaconda2/envs/fastai/lib/python3.6/site-packages/flask/app.py\", line 1612, in full_dispatch_request\n",
      "    rv = self.dispatch_request()\n",
      "  File \"/Users/imarobit-mac/anaconda2/envs/fastai/lib/python3.6/site-packages/flask/app.py\", line 1598, in dispatch_request\n",
      "    return self.view_functions[rule.endpoint](**req.view_args)\n",
      "  File \"/Users/imarobit-mac/anaconda2/envs/fastai/lib/python3.6/site-packages/dash/dash.py\", line 556, in dispatch\n",
      "    return self.callback_map[target_id]['callback'](*args)\n",
      "  File \"/Users/imarobit-mac/anaconda2/envs/fastai/lib/python3.6/site-packages/dash/dash.py\", line 513, in add_context\n",
      "    output_value = func(*args, **kwargs)\n",
      "  File \"<ipython-input-82-a0f305dfb650>\", line 34, in update_output\n",
      "    'layout': {height :225\n",
      "NameError: name 'height' is not defined\n",
      "127.0.0.1 - - [30/Apr/2018 19:29:55] \"POST /_dash-update-component HTTP/1.1\" 500 -\n"
     ]
    },
    {
     "name": "stdout",
     "output_type": "stream",
     "text": [
      "(31611, 42705, 7640, 584)\n"
     ]
    }
   ],
   "source": [
    "show_app(app,  # type: dash.Dash\n",
    "             port=9999,\n",
    "             width=1000,\n",
    "             height=1000,\n",
    "             offline=True,\n",
    "             style=True)"
   ]
  },
  {
   "cell_type": "code",
   "execution_count": null,
   "metadata": {},
   "outputs": [],
   "source": []
  },
  {
   "cell_type": "code",
   "execution_count": null,
   "metadata": {},
   "outputs": [],
   "source": []
  }
 ],
 "metadata": {
  "kernelspec": {
   "display_name": "Python 3",
   "language": "python",
   "name": "python3"
  },
  "language_info": {
   "codemirror_mode": {
    "name": "ipython",
    "version": 3
   },
   "file_extension": ".py",
   "mimetype": "text/x-python",
   "name": "python",
   "nbconvert_exporter": "python",
   "pygments_lexer": "ipython3",
   "version": "3.6.4"
  }
 },
 "nbformat": 4,
 "nbformat_minor": 2
}
