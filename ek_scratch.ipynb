{
 "cells": [
  {
   "cell_type": "code",
   "execution_count": 78,
   "metadata": {},
   "outputs": [
    {
     "data": {
      "text/html": [
       "<script>requirejs.config({paths: { 'plotly': ['https://cdn.plot.ly/plotly-latest.min']},});if(!window.Plotly) {{require(['plotly'],function(plotly) {window.Plotly=plotly;});}}</script>"
      ],
      "text/vnd.plotly.v1+html": [
       "<script>requirejs.config({paths: { 'plotly': ['https://cdn.plot.ly/plotly-latest.min']},});if(!window.Plotly) {{require(['plotly'],function(plotly) {window.Plotly=plotly;});}}</script>"
      ]
     },
     "metadata": {},
     "output_type": "display_data"
    }
   ],
   "source": [
    "import numpy as np\n",
    "import pandas as pd\n",
    "from sklearn.externals import joblib\n",
    "import plotly.graph_objs as go\n",
    "from plotly.offline import download_plotlyjs, init_notebook_mode, iplot, plot\n",
    "import plotly.plotly as py \n",
    "\n",
    "init_notebook_mode(connected=True)"
   ]
  },
  {
   "cell_type": "code",
   "execution_count": 3,
   "metadata": {},
   "outputs": [],
   "source": [
    "def xy_sample(data, size):\n",
    "    data_len = data.shape[0]\n",
    "    if data_len > size:\n",
    "        sub_val = np.random.choice(np.arange(data.shape[0]), size, replace=False)\n",
    "    else:\n",
    "        sub_val = np.arange(data.shape[0])\n",
    "    \n",
    "    return sub_val"
   ]
  },
  {
   "cell_type": "code",
   "execution_count": 19,
   "metadata": {
    "scrolled": true
   },
   "outputs": [
    {
     "name": "stdout",
     "output_type": "stream",
     "text": [
      "Data Loaded!\n",
      "Metrics Loaded!\n"
     ]
    }
   ],
   "source": [
    "def mean_absolute_percentage_error(y_true, y_pred): \n",
    "    #y_true, y_pred = check_array(y_true, y_pred)\n",
    "    return np.mean(np.abs((y_true - y_pred) / y_true)) * 100\n",
    "\n",
    "def mean_squared_percentage_error(y_true, y_pred): \n",
    "    #y_true, y_pred = check_array(y_true, y_pred)\n",
    "    return np.mean((y_true - y_pred)**2 / y_true) * 100\n",
    "\n",
    "def get_regression_metrics(rf, train, y_train, valid, y_valid):\n",
    "    #rf.fit(train, y_train)\n",
    "    y_pred = rf.predict(valid)\n",
    "    \n",
    "    validation = {}\n",
    "    validation[\"msle\"] = mean_squared_log_error(y_valid, y_pred)\n",
    "    validation[\"mae\"] = mean_absolute_error(y_valid, y_pred)\n",
    "    validation[\"mse\"] = mean_squared_error(y_valid, y_pred)\n",
    "    validation[\"mape\"] = mean_absolute_percentage_error(y_valid, y_pred)\n",
    "    validation[\"r2\"] = r2_score(y_valid, y_pred)\n",
    "    validation[\"rmsle\"] = np.sqrt(mean_squared_log_error(y_valid, y_pred))\n",
    "    validation[\"rmse\"] = np.sqrt(mean_squared_error(y_valid, y_pred))\n",
    "    validation[\"preds\"] = y_pred\n",
    "    #validation[\"rmspe\"] = mean_squared_percentage_error(y_valid, y_pred)\n",
    "    \n",
    "    y_pred_train = rf.predict(train)\n",
    "    training = {}\n",
    "    training[\"msle\"] = mean_squared_log_error(y_train, y_pred_train)\n",
    "    training[\"mae\"] = mean_absolute_error(y_train, y_pred_train)\n",
    "    training[\"mse\"] = mean_squared_error(y_train, y_pred_train)\n",
    "    training[\"mape\"] = mean_absolute_percentage_error(y_train, y_pred_train)\n",
    "    training[\"r2\"] = r2_score(y_train, y_pred_train)\n",
    "    training[\"rmsle\"] = np.sqrt(mean_squared_log_error(y_train, y_pred_train))\n",
    "    training[\"rmse\"] = np.sqrt(mean_squared_error(y_train, y_pred_train))\n",
    "    training[\"preds\"] = y_pred_train\n",
    "    \n",
    "    return validation, training\n",
    "\n",
    "########################\n",
    "# Model + Data Loading #\n",
    "########################\n",
    "rf = joblib.load('./data/rf_trained.pkl')\n",
    "train = pd.read_feather('./data/x_train.feather')\n",
    "valid = pd.read_feather('./data/x_valid.feather')\n",
    "y_train = pd.read_csv('./data/y_train.csv',header=None).iloc[:,0]\n",
    "y_valid = pd.read_csv('./data/y_valid.csv',header=None).iloc[:,0]\n",
    "print('Data Loaded!')\n",
    "\n",
    "valid_metrics, train_metrics = get_regression_metrics(rf, train, y_train, valid, y_valid)\n",
    "df_test = pd.DataFrame(valid_metrics).head(1).drop([\"preds\"], axis = 1).apply(lambda x:round(x, 4))\n",
    "print('Metrics Loaded!')"
   ]
  },
  {
   "cell_type": "code",
   "execution_count": 25,
   "metadata": {},
   "outputs": [
    {
     "ename": "IndexError",
     "evalue": "index 191874 is out of bounds for axis 1 with size 82540",
     "output_type": "error",
     "traceback": [
      "\u001b[0;31m---------------------------------------------------------------------------\u001b[0m",
      "\u001b[0;31mIndexError\u001b[0m                                Traceback (most recent call last)",
      "\u001b[0;32m<ipython-input-25-ab58b3262f35>\u001b[0m in \u001b[0;36m<module>\u001b[0;34m()\u001b[0m\n\u001b[0;32m----> 1\u001b[0;31m \u001b[0mvalid_metrics\u001b[0m\u001b[0;34m[\u001b[0m\u001b[0;34m'preds'\u001b[0m\u001b[0;34m]\u001b[0m\u001b[0;34m[\u001b[0m\u001b[0mx_samp\u001b[0m\u001b[0;34m]\u001b[0m\u001b[0;34m\u001b[0m\u001b[0m\n\u001b[0m",
      "\u001b[0;31mIndexError\u001b[0m: index 191874 is out of bounds for axis 1 with size 82540"
     ]
    }
   ],
   "source": [
    "valid_metrics['preds']"
   ]
  },
  {
   "cell_type": "code",
   "execution_count": 29,
   "metadata": {},
   "outputs": [],
   "source": [
    "x_samp = xy_sample(valid, 3)"
   ]
  },
  {
   "cell_type": "code",
   "execution_count": 30,
   "metadata": {},
   "outputs": [
    {
     "data": {
      "text/plain": [
       "array([35695.40144665, 17489.42232017, 28185.04059614])"
      ]
     },
     "execution_count": 30,
     "metadata": {},
     "output_type": "execute_result"
    }
   ],
   "source": [
    "valid_metrics['preds'][x_samp]"
   ]
  },
  {
   "cell_type": "code",
   "execution_count": 31,
   "metadata": {},
   "outputs": [
    {
     "data": {
      "text/plain": [
       "77042    32000.0\n",
       "30499    19000.0\n",
       "23508    26000.0\n",
       "Name: 0, dtype: float64"
      ]
     },
     "execution_count": 31,
     "metadata": {},
     "output_type": "execute_result"
    }
   ],
   "source": [
    "y_valid.loc[x_samp]"
   ]
  },
  {
   "cell_type": "code",
   "execution_count": 3,
   "metadata": {
    "scrolled": true
   },
   "outputs": [
    {
     "name": "stderr",
     "output_type": "stream",
     "text": [
      "/Users/imarobit-mac/anaconda2/envs/fastai/lib/python3.6/site-packages/IPython/core/interactiveshell.py:2728: DtypeWarning: Columns (13,39,40,41) have mixed types. Specify dtype option on import or set low_memory=False.\n",
      "  interactivity=interactivity, compiler=compiler, result=result)\n"
     ]
    }
   ],
   "source": [
    "data = pd.read_csv('./data/TrainAndValid.csv')"
   ]
  },
  {
   "cell_type": "code",
   "execution_count": 132,
   "metadata": {},
   "outputs": [],
   "source": [
    "rf = joblib.load('./data/rfc_trained.pkl')\n",
    "train = pd.read_feather('./data/xc_train.feather')\n",
    "valid = pd.read_feather('./data/xc_valid.feather')\n",
    "y_train = pd.read_csv('./data/yc_train.csv',header=None).iloc[:,0]\n",
    "y_valid = pd.read_csv('./data/yc_valid.csv',header=None).iloc[:,0]\n",
    "\n",
    "def pred_to_hard(val, arr):\n",
    "    arr[arr > val] = 1\n",
    "    arr[arr <= val] = 0\n",
    "    return arr\n",
    "\n",
    "def hard_pred_df(data, target, model):\n",
    "    df = pd.DataFrame(columns=['Break','TP','TN', 'FP', 'FN'])\n",
    "    preds = model.predict_proba(data)[:,1]\n",
    "    for i,v in enumerate(np.arange(0,1.001,.001)):\n",
    "        hard = pred_to_hard(v, preds.copy())\n",
    "        tp_ = np.sum(np.logical_and((hard == 1), (y_valid.values == 1)))\n",
    "        tn_ = np.sum(np.logical_and((hard == 0), (y_valid.values == 0)))\n",
    "        fp_ = np.sum(np.logical_and((hard == 1), (y_valid.values == 0)))\n",
    "        fn_ = np.sum(np.logical_and((hard == 0), (y_valid.values == 1)))\n",
    "        df.loc[i] = {\n",
    "                     'Break':v,\n",
    "                     'TP':tp_,\n",
    "                     'TN':tn_,\n",
    "                     'FP':fp_,\n",
    "                     'FN':fn_\n",
    "                    }\n",
    "    return df\n",
    "\n",
    "hard_pred_df(valid,y_valid,rf)"
   ]
  },
  {
   "cell_type": "code",
   "execution_count": null,
   "metadata": {},
   "outputs": [],
   "source": []
  }
 ],
 "metadata": {
  "kernelspec": {
   "display_name": "Python 3",
   "language": "python",
   "name": "python3"
  },
  "language_info": {
   "codemirror_mode": {
    "name": "ipython",
    "version": 3
   },
   "file_extension": ".py",
   "mimetype": "text/x-python",
   "name": "python",
   "nbconvert_exporter": "python",
   "pygments_lexer": "ipython3",
   "version": "3.6.4"
  }
 },
 "nbformat": 4,
 "nbformat_minor": 2
}
