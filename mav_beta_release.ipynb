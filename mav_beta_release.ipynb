{
 "cells": [
  {
   "cell_type": "code",
   "execution_count": 1,
   "metadata": {},
   "outputs": [],
   "source": [
    "import pandas as pd\n",
    "from sklearn.externals import joblib\n",
    "from sklearn.metrics import mean_absolute_error, mean_squared_error, mean_squared_log_error, r2_score\n",
    "from sklearn.utils import check_array\n",
    "import numpy as np\n",
    "from numba import jit, vectorize, float64, int64\n",
    "from sklearn.ensemble import RandomForestRegressor\n",
    "from sklearn.model_selection import train_test_split\n",
    "from sklearn.preprocessing import LabelEncoder\n",
    "from datetime import datetime\n",
    "from sklearn.externals import joblib\n",
    "from math import sqrt\n",
    "from IPython import display\n",
    "import dash\n",
    "import dash_core_components as dcc\n",
    "import dash_html_components as html\n",
    "import warnings\n",
    "import plotly.graph_objs as go\n",
    "from plotly import tools\n",
    "from plotly.figure_factory import create_2d_density\n",
    "from plotly.graph_objs import graph_objs"
   ]
  },
  {
   "cell_type": "code",
   "execution_count": 2,
   "metadata": {},
   "outputs": [],
   "source": [
    "warnings.filterwarnings('ignore')"
   ]
  },
  {
   "cell_type": "code",
   "execution_count": 3,
   "metadata": {},
   "outputs": [],
   "source": [
    "rf = joblib.load('./data/rf_trained.pkl')"
   ]
  },
  {
   "cell_type": "code",
   "execution_count": 4,
   "metadata": {},
   "outputs": [],
   "source": [
    "# Data Loading\n",
    "data = pd.read_csv('./data/TrainAndValid.csv')\n",
    "test = pd.read_csv('./data/Test.csv')\n",
    "\n",
    "# Date Features\n",
    "tmp_date = data.saledate.apply(lambda x : datetime.strptime(x[:-5], '%m/%d/%Y'))\n",
    "data['sale_mon'] = tmp_date.dt.month\n",
    "data['sale_dayofweek'] = tmp_date.dt.dayofweek\n",
    "data['sale_dayofyear'] = tmp_date.dt.dayofyear\n",
    "data['sale_year'] = tmp_date.dt.year\n",
    "data.drop(['saledate'],axis=1,inplace=True)\n",
    "\n",
    "# Taking Subset of Columns\n",
    "kept_columns = [\n",
    "                'YearMade', \n",
    "                'sale_mon', \n",
    "                'sale_dayofweek',\n",
    "                'sale_dayofyear',\n",
    "                'sale_year',\n",
    "                'fiModelDesc',\n",
    "                'fiBaseModel',\n",
    "                'fiProductClassDesc',\n",
    "                'state',\n",
    "                'SalePrice'\n",
    "               ]\n",
    "data = data[kept_columns]\n",
    "data['age'] = data.sale_year - data.YearMade\n",
    "\n",
    "# Encoding Class Description\n",
    "data.loc[:,'classDesc_1'] = data.fiProductClassDesc.apply(lambda x : x.replace(',','').strip().split('-')[0])\n",
    "data.loc[:,'classDesc_2'] = data.fiProductClassDesc.apply(lambda x : x.replace(',','').strip().split('-')[1])\n",
    "data.drop('fiProductClassDesc',axis=1,inplace=True)\n",
    "\n",
    "for col in ['fiModelDesc','fiBaseModel','state','classDesc_1','classDesc_2']:\n",
    "    lb = LabelEncoder()\n",
    "    data.loc[:,col] = lb.fit_transform(data.loc[:,col])\n",
    "\n",
    "# Building a Random Forest Regressor\n",
    "data.loc[data.YearMade < 1920, 'YearMade'] = np.median(data.YearMade)\n",
    "data.loc[data.YearMade > 2012, 'YearMade'] = 2012\n",
    "\n",
    "train, valid = train_test_split(data, test_size = .2)\n",
    "y_train = train.SalePrice\n",
    "y_valid = valid.SalePrice\n",
    "train.drop('SalePrice',axis=1,inplace=True)\n",
    "valid.drop('SalePrice',axis=1,inplace=True)\n"
   ]
  },
  {
   "cell_type": "markdown",
   "metadata": {},
   "source": [
    "# Regression metrics"
   ]
  },
  {
   "cell_type": "markdown",
   "metadata": {},
   "source": [
    "## MAE, MSE, MSPE, MAPE, MSLE, R2 "
   ]
  },
  {
   "cell_type": "code",
   "execution_count": 5,
   "metadata": {},
   "outputs": [],
   "source": [
    "def mean_absolute_percentage_error(y_true, y_pred): \n",
    "    #y_true, y_pred = check_array(y_true, y_pred)\n",
    "    return np.mean(np.abs((y_true - y_pred) / y_true)) * 100"
   ]
  },
  {
   "cell_type": "code",
   "execution_count": 6,
   "metadata": {},
   "outputs": [],
   "source": [
    "def mean_squared_percentage_error(y_true, y_pred): \n",
    "    #y_true, y_pred = check_array(y_true, y_pred)\n",
    "    return np.mean((y_true - y_pred)**2 / y_true) * 100"
   ]
  },
  {
   "cell_type": "code",
   "execution_count": 7,
   "metadata": {},
   "outputs": [],
   "source": [
    "def get_regression_metrics(rf, train, y_train, valid, y_valid):\n",
    "    #rf.fit(train, y_train)\n",
    "    y_pred = rf.predict(valid)\n",
    "    \n",
    "    validation = {}\n",
    "    validation[\"msle\"] = mean_squared_log_error(y_valid, y_pred)\n",
    "    validation[\"mae\"] = mean_absolute_error(y_valid, y_pred)\n",
    "    validation[\"mse\"] = mean_squared_error(y_valid, y_pred)\n",
    "    validation[\"mape\"] = mean_absolute_percentage_error(y_valid, y_pred)\n",
    "    validation[\"r2\"] = r2_score(y_valid, y_pred)\n",
    "    validation[\"rmsle\"] = np.sqrt(mean_squared_log_error(y_valid, y_pred))\n",
    "    validation[\"rmse\"] = np.sqrt(mean_squared_error(y_valid, y_pred))\n",
    "    validation[\"preds\"] = y_pred\n",
    "    #validation[\"rmspe\"] = mean_squared_percentage_error(y_valid, y_pred)\n",
    "    \n",
    "    y_pred_train = rf.predict(train)\n",
    "    training = {}\n",
    "    training[\"msle\"] = mean_squared_log_error(y_train, y_pred_train)\n",
    "    training[\"mae\"] = mean_absolute_error(y_train, y_pred_train)\n",
    "    training[\"mse\"] = mean_squared_error(y_train, y_pred_train)\n",
    "    training[\"mape\"] = mean_absolute_percentage_error(y_train, y_pred_train)\n",
    "    training[\"r2\"] = r2_score(y_train, y_pred_train)\n",
    "    training[\"rmsle\"] = np.sqrt(mean_squared_log_error(y_train, y_pred_train))\n",
    "    training[\"rmse\"] = np.sqrt(mean_squared_error(y_train, y_pred_train))\n",
    "    training[\"preds\"] = y_pred_train\n",
    "    \n",
    "    return validation, training"
   ]
  },
  {
   "cell_type": "code",
   "execution_count": 8,
   "metadata": {},
   "outputs": [],
   "source": [
    "valid_metrics, train_metrics = get_regression_metrics(rf, train, y_train, valid, y_valid)"
   ]
  },
  {
   "cell_type": "markdown",
   "metadata": {},
   "source": [
    "# show the Dash plot"
   ]
  },
  {
   "cell_type": "code",
   "execution_count": 9,
   "metadata": {},
   "outputs": [],
   "source": [
    "def show_app(app,  # type: dash.Dash\n",
    "             port=9999,\n",
    "             width=700,\n",
    "             height=350,\n",
    "             offline=True,\n",
    "             style=True,\n",
    "             **dash_flask_kwargs):\n",
    "    \"\"\"\n",
    "    Run the application inside a Jupyter notebook and show an iframe with it\n",
    "    :param app:\n",
    "    :param port:\n",
    "    :param width:\n",
    "    :param height:\n",
    "    :param offline:\n",
    "    :return:\n",
    "    \"\"\"\n",
    "    url = 'http://localhost:%d' % port\n",
    "    iframe = '<iframe src=\"{url}\" width={width} height={height}></iframe>'.format(url=url,\n",
    "                                                                                  width=width,\n",
    "                                                                                  height=height)\n",
    "    display.display_html(iframe, raw=True)\n",
    "    if offline:\n",
    "        app.css.config.serve_locally = True\n",
    "        app.scripts.config.serve_locally = True\n",
    "    if style:\n",
    "        external_css = [\"https://fonts.googleapis.com/css?family=Raleway:400,300,600\",\n",
    "                        \"https://maxcdn.bootstrapcdn.com/font-awesome/4.7.0/css/font-awesome.min.css\",\n",
    "                        \"http://getbootstrap.com/dist/css/bootstrap.min.css\", ]\n",
    "\n",
    "        for css in external_css:\n",
    "            app.css.append_css({\"external_url\": css})\n",
    "\n",
    "        external_js = [\"https://code.jquery.com/jquery-3.2.1.min.js\",\n",
    "                       \"https://cdn.rawgit.com/plotly/dash-app-stylesheets/a3401de132a6d0b652ba11548736b1d1e80aa10d/dash-goldman-sachs-report-js.js\",\n",
    "                       \"http://getbootstrap.com/dist/js/bootstrap.min.js\"]\n",
    "\n",
    "        for js in external_js:\n",
    "            app.scripts.append_script({\"external_url\": js})\n",
    "\n",
    "    return app.run_server(debug=False,  # needs to be false in Jupyter\n",
    "                          port=port)\n",
    "                          #**dash_flask_kwargs)"
   ]
  },
  {
   "cell_type": "code",
   "execution_count": 10,
   "metadata": {},
   "outputs": [],
   "source": [
    "columns = [\"type\", \"mae\", \"mape\", \"mse\", \"msle\", \"rmse\", \"rmsle\", \"r2\"]"
   ]
  },
  {
   "cell_type": "code",
   "execution_count": 11,
   "metadata": {},
   "outputs": [],
   "source": [
    "df_test = pd.DataFrame(valid_metrics).head(1).drop([\"preds\"], axis = 1).apply(lambda x:round(x, 4))\n",
    "df_test[\"type\"] = \"validation\"\n",
    "df_test = df_test[columns] "
   ]
  },
  {
   "cell_type": "code",
   "execution_count": 12,
   "metadata": {},
   "outputs": [],
   "source": [
    "df_train = pd.DataFrame(train_metrics).head(1).drop([\"preds\"], axis = 1).apply(lambda x:round(x, 4))\n",
    "df_train[\"type\"] = \"training\"\n",
    "df_train = df_train[columns]"
   ]
  },
  {
   "cell_type": "code",
   "execution_count": 13,
   "metadata": {},
   "outputs": [],
   "source": [
    "app_simple = dash.Dash()"
   ]
  },
  {
   "cell_type": "code",
   "execution_count": 14,
   "metadata": {},
   "outputs": [],
   "source": [
    "colorscale =[[0.0, 'rgb(50,50,50)'], [0.001, 'rgb(5, 57, 94)'],[1.0,'rgb(126, 247, 27)']]#[1.0, 'rgb(242, 59, 31)']]"
   ]
  },
  {
   "cell_type": "code",
   "execution_count": 15,
   "metadata": {},
   "outputs": [],
   "source": [
    "subsample=1_000"
   ]
  },
  {
   "cell_type": "code",
   "execution_count": 119,
   "metadata": {},
   "outputs": [],
   "source": [
    "total_rows = len(train)"
   ]
  },
  {
   "cell_type": "code",
   "execution_count": 120,
   "metadata": {},
   "outputs": [],
   "source": [
    "color_bar_nums = [30,25, 20,15, 10, 5]\n",
    "color_bar_list = [str(round((total_rows*x)/float(subsample)*100,1))+\"%\" for x in color_bar_nums]"
   ]
  },
  {
   "cell_type": "code",
   "execution_count": 123,
   "metadata": {},
   "outputs": [],
   "source": [
    "color_bar_nums = [30, 5]\n",
    "color_bar_list = [\"max\", \"min\"]"
   ]
  },
  {
   "cell_type": "code",
   "execution_count": 124,
   "metadata": {
    "scrolled": false
   },
   "outputs": [],
   "source": [
    "trace_hist = graph_objs.Histogram2dcontour(x = valid_metrics[\"preds\"][:subsample], \n",
    "                                           y= y_valid[:subsample], \n",
    "                                           name= \"Validation set\",\n",
    "                                           ncontours=100,\n",
    "                                           nbinsx=100,\n",
    "                                           nbinsy=100, \n",
    "                                           autocontour= False,\n",
    "                                           contours = {\"showlines\":False},\n",
    "                                           yaxis='y2', \n",
    "                                           colorscale=colorscale,\n",
    "                                           colorbar={\"yanchor\":\"top\", \n",
    "                                                     \"len\":.5,\n",
    "                                                    'ticktext':color_bar_list,\n",
    "                                                     'tickvals':color_bar_nums,\n",
    "                                                    'tickmode':'array'}\n",
    "                                                    #'tickfont':{'color':'white'}}\n",
    "                                          )\n",
    "\n",
    "trace_hist2 = graph_objs.Histogram2dcontour(x = valid_metrics[\"preds\"][:subsample], \n",
    "                                            y= y_valid[:subsample], \n",
    "                                            name= \"Validation set\", \n",
    "                                            xaxis='x2',\n",
    "                                            yaxis='y2',\n",
    "                                            ncontours=100,\n",
    "                                            nbinsx=100,\n",
    "                                            nbinsy=100, \n",
    "                                            autocontour= False,\n",
    "                                            contours = {\"showlines\":False},\n",
    "                                            colorscale=colorscale,\n",
    "                                            colorbar={\"yanchor\":\"top\", \n",
    "                                                     \"len\":.5,\n",
    "                                                     'ticktext':color_bar_list,\n",
    "                                                     'tickvals':color_bar_nums,\n",
    "                                                     'tickmode':'array'})\n",
    "                                                     #'tickfont':{'color':'white'}})\n",
    "\n",
    "trace = go.Scatter(x = valid_metrics[\"preds\"][:subsample], \n",
    "                   y= y_valid[:subsample], \n",
    "                   mode='markers',\n",
    "                   marker = {\"opacity\":0.7, \n",
    "                             \"color\":'rgb(22, 199, 229)'},\n",
    "                   xaxis='x2', \n",
    "                   textfont=dict(family='helvetica', \n",
    "                                 size=14, \n",
    "                                 color='rgb(193, 192, 191)'),\n",
    "                   showlegend=True, \n",
    "                   name = \"Validation\")\n",
    "\n",
    "trace2 = go.Scatter(x = train_metrics[\"preds\"][:subsample], y= y_train[:subsample], \n",
    "                          mode='markers',\n",
    "                          marker = {\"opacity\":0.7, \n",
    "                                    \"color\":'rgb(2, 150, 255)'},\n",
    "                          showlegend=True, \n",
    "                          name = \"Training\", \n",
    "                   )"
   ]
  },
  {
   "cell_type": "code",
   "execution_count": 128,
   "metadata": {},
   "outputs": [],
   "source": [
    "annot_font = {\"family\":'helvetica', \"size\":20,\"color\":\"white\"}#'rgb(2, 150, 255)'}"
   ]
  },
  {
   "cell_type": "code",
   "execution_count": 129,
   "metadata": {},
   "outputs": [],
   "source": [
    "annotations=[\n",
    "    dict(x=0.19,\n",
    "         y=1.04,\n",
    "         xref='paper',\n",
    "         yref='paper',\n",
    "         text=\"Validation\", \n",
    "         showarrow=False, \n",
    "         font= annot_font\n",
    "        ), \n",
    "    dict(x=0.82, \n",
    "         y=1.04,\n",
    "         xref='paper',\n",
    "         yref='paper',\n",
    "         text=\"Training\", \n",
    "         showarrow=False,\n",
    "         font=annot_font\n",
    "        ),\n",
    "    dict(x=0.14,\n",
    "         y=.42,\n",
    "         xref='paper',\n",
    "         yref='paper',\n",
    "         text=\"Density of Validation\", \n",
    "         showarrow=False,\n",
    "         font=annot_font\n",
    "        ), \n",
    "    dict(x=0.87, \n",
    "         y=.42,\n",
    "         xref='paper',\n",
    "         yref='paper',\n",
    "         text=\"Density of Training\", \n",
    "         showarrow=False,\n",
    "         font=annot_font\n",
    "        ),\n",
    "    dict(x = 0, \n",
    "         y=-.1, \n",
    "         xref = 'paper', \n",
    "         yref = 'paper', \n",
    "         text = 'Predicted')\n",
    "]"
   ]
  },
  {
   "cell_type": "code",
   "execution_count": 130,
   "metadata": {},
   "outputs": [],
   "source": [
    "layout = go.Layout(title='Predicted vs. True Values', titlefont={'color':\"white\"},\n",
    "                   font=dict(family='helvetica', \n",
    "                             size=14, \n",
    "                             color='rgb(193, 192, 191)'),\n",
    "                   xaxis={'title': 'Predicted', \n",
    "                          \"domain\":[0, 0.45]},\n",
    "                   yaxis={'title': 'True', \n",
    "                          \"domain\":[0.6,1]},\n",
    "                   xaxis2={'title': 'Predicted',\n",
    "                           \"domain\":[0.55, 1]},\n",
    "                   yaxis2={\"title\":\"True\", \n",
    "                           'domain':[0,.4]},\n",
    "                   paper_bgcolor = \"rgb(20,20,20)\",\n",
    "                   plot_bgcolor=\"rgb(50,50,50)\",\n",
    "                   autosize=False,\n",
    "                   width=900,\n",
    "                   height=900,\n",
    "                   annotations=annotations)"
   ]
  },
  {
   "cell_type": "code",
   "execution_count": 131,
   "metadata": {},
   "outputs": [],
   "source": [
    "app_simple.layout = html.Div(children=[\n",
    "    html.H2(children='Beta Release'),\n",
    "\n",
    "\n",
    "    html.Table(\n",
    "               [html.Tr([html.Th(col) for col in df_test.columns])] +\n",
    "               [html.Tr( [html.Td(df_test.iloc[i][col]) for col in df_test.columns] ) \n",
    "                                for i in range(min(len(df_test), 10))]+\n",
    "               [html.Tr( [html.Td(df_train.iloc[i][col]) for col in df_train.columns] ) \n",
    "                                for i in range(min(len(df_train), 10))]\n",
    "               ,\n",
    "              \n",
    "            \n",
    "        \n",
    "        \n",
    "               style={'border': '4px solid',\n",
    "                      'text-align': 'center',\n",
    "                      'width':'900',\n",
    "                      \"background-color\": \"#141414\",\n",
    "                      \"color\": \"#c1c0bf\",\n",
    "                      'border-color': \"#c1c0bf\"\n",
    "                      \n",
    "                     }\n",
    "              ),\n",
    "    dcc.Graph(\n",
    "        id='example-graph',\n",
    "        figure={\n",
    "            'data': [trace_hist, trace_hist2, trace, trace2],\n",
    "            \n",
    "            'layout': layout\n",
    "        }\n",
    "    )\n",
    "])"
   ]
  },
  {
   "cell_type": "code",
   "execution_count": null,
   "metadata": {
    "scrolled": false
   },
   "outputs": [
    {
     "data": {
      "text/html": [
       "<iframe src=\"http://localhost:9999\" width=1000 height=1000></iframe>"
      ]
     },
     "metadata": {},
     "output_type": "display_data"
    },
    {
     "name": "stderr",
     "output_type": "stream",
     "text": [
      " * Running on http://127.0.0.1:9999/ (Press CTRL+C to quit)\n",
      "127.0.0.1 - - [25/Apr/2018 19:51:34] \"\u001b[37mGET / HTTP/1.1\u001b[0m\" 200 -\n",
      "127.0.0.1 - - [25/Apr/2018 19:51:34] \"\u001b[37mGET /_dash-component-suites/dash_core_components/rc-slider@6.1.2.css?v=0.22.1 HTTP/1.1\u001b[0m\" 200 -\n",
      "127.0.0.1 - - [25/Apr/2018 19:51:34] \"\u001b[37mGET /_dash-component-suites/dash_core_components/react-select@1.0.0-rc.3.min.css?v=0.22.1 HTTP/1.1\u001b[0m\" 200 -\n",
      "127.0.0.1 - - [25/Apr/2018 19:51:34] \"\u001b[37mGET /_dash-component-suites/dash_core_components/react-virtualized@9.9.0.css?v=0.22.1 HTTP/1.1\u001b[0m\" 200 -\n",
      "127.0.0.1 - - [25/Apr/2018 19:51:34] \"\u001b[37mGET /_dash-component-suites/dash_core_components/react-virtualized-select@3.1.0.css?v=0.22.1 HTTP/1.1\u001b[0m\" 200 -\n",
      "127.0.0.1 - - [25/Apr/2018 19:51:34] \"\u001b[37mGET /_dash-component-suites/dash_core_components/react-dates@12.3.0.css?v=0.22.1 HTTP/1.1\u001b[0m\" 200 -\n",
      "127.0.0.1 - - [25/Apr/2018 19:51:34] \"\u001b[37mGET /_dash-component-suites/dash_renderer/react@15.4.2.min.js?v=0.12.1 HTTP/1.1\u001b[0m\" 200 -\n",
      "127.0.0.1 - - [25/Apr/2018 19:51:34] \"\u001b[37mGET /_dash-component-suites/dash_renderer/react-dom@15.4.2.min.js?v=0.12.1 HTTP/1.1\u001b[0m\" 200 -\n",
      "127.0.0.1 - - [25/Apr/2018 19:51:34] \"\u001b[37mGET /_dash-component-suites/dash_html_components/bundle.js?v=0.10.0 HTTP/1.1\u001b[0m\" 200 -\n",
      "127.0.0.1 - - [25/Apr/2018 19:51:35] \"\u001b[37mGET /_dash-component-suites/dash_core_components/plotly-1.35.2.min.js?v=0.22.1 HTTP/1.1\u001b[0m\" 200 -\n",
      "127.0.0.1 - - [25/Apr/2018 19:51:35] \"\u001b[37mGET /_dash-component-suites/dash_core_components/bundle.js?v=0.22.1 HTTP/1.1\u001b[0m\" 200 -\n",
      "127.0.0.1 - - [25/Apr/2018 19:51:35] \"\u001b[37mGET /_dash-component-suites/dash_renderer/bundle.js?v=0.12.1 HTTP/1.1\u001b[0m\" 200 -\n",
      "127.0.0.1 - - [25/Apr/2018 19:51:35] \"\u001b[37mGET /_dash-layout HTTP/1.1\u001b[0m\" 200 -\n",
      "127.0.0.1 - - [25/Apr/2018 19:51:35] \"\u001b[37mGET /_dash-dependencies HTTP/1.1\u001b[0m\" 200 -\n"
     ]
    }
   ],
   "source": [
    "show_app(app_simple,  # type: dash.Dash\n",
    "             port=9999,\n",
    "             width=1000,\n",
    "             height=1000,\n",
    "             offline=True,\n",
    "             style=True)"
   ]
  },
  {
   "cell_type": "code",
   "execution_count": null,
   "metadata": {},
   "outputs": [],
   "source": []
  },
  {
   "cell_type": "code",
   "execution_count": null,
   "metadata": {},
   "outputs": [],
   "source": []
  }
 ],
 "metadata": {
  "kernelspec": {
   "display_name": "Python 3",
   "language": "python",
   "name": "python3"
  },
  "language_info": {
   "codemirror_mode": {
    "name": "ipython",
    "version": 3
   },
   "file_extension": ".py",
   "mimetype": "text/x-python",
   "name": "python",
   "nbconvert_exporter": "python",
   "pygments_lexer": "ipython3",
   "version": "3.6.5"
  }
 },
 "nbformat": 4,
 "nbformat_minor": 2
}
